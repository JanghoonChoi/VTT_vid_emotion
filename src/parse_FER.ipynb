{
 "cells": [
  {
   "cell_type": "code",
   "execution_count": 1,
   "metadata": {},
   "outputs": [],
   "source": [
    "import sys,os,time,cv2\n",
    "import numpy as np\n",
    "\n",
    "from utils import imread_to_rgb, crop_img, emo2txt\n",
    "import matplotlib.pyplot as plt"
   ]
  },
  {
   "cell_type": "code",
   "execution_count": 2,
   "metadata": {},
   "outputs": [],
   "source": [
    "fer_dict = dict()\n",
    "fer_csv = np.genfromtxt('/home/jhchoi/datasets4/FER/fer2013.csv', delimiter=',', dtype=str)[1:]\n",
    "\n",
    "for i,db in enumerate(fer_csv):\n",
    "    # generate emotion vector\n",
    "    emo = int(db[0])\n",
    "    # import image\n",
    "    im = db[1]\n",
    "    im = im.split(' ')\n",
    "    im = np.array(im).reshape([48,48]).astype(int)\n",
    "    \n",
    "    # store to fer dict\n",
    "    fer_dict[i] = {'em':emo, 'img':im}\n",
    "\n",
    "np.save('../../dicts/fer_parsed.npy', fer_dict, allow_pickle=True)"
   ]
  },
  {
   "cell_type": "code",
   "execution_count": null,
   "metadata": {},
   "outputs": [],
   "source": []
  }
 ],
 "metadata": {
  "kernelspec": {
   "display_name": "Python 2",
   "language": "python",
   "name": "python2"
  },
  "language_info": {
   "codemirror_mode": {
    "name": "ipython",
    "version": 2
   },
   "file_extension": ".py",
   "mimetype": "text/x-python",
   "name": "python",
   "nbconvert_exporter": "python",
   "pygments_lexer": "ipython2",
   "version": "2.7.15+"
  }
 },
 "nbformat": 4,
 "nbformat_minor": 2
}
