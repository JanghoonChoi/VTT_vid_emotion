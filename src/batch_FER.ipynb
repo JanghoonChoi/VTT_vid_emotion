{
 "cells": [
  {
   "cell_type": "code",
   "execution_count": 1,
   "metadata": {},
   "outputs": [],
   "source": [
    "import sys,os,time,cv2\n",
    "import numpy as np\n",
    "import torch\n",
    "from torch.utils.data import Dataset, DataLoader\n",
    "\n",
    "from th_utils import *\n",
    "from utils import imread_to_rgb, crop_img, emo2txt\n",
    "import matplotlib.pyplot as plt"
   ]
  },
  {
   "cell_type": "code",
   "execution_count": 2,
   "metadata": {},
   "outputs": [],
   "source": [
    "class FER_Dataset(Dataset):\n",
    "    def __init__(self, ops):\n",
    "        self.ops = ops\n",
    "        self.fer_dict = ops.fer_dict\n",
    "        self.len = len(self.fer_dict.keys())\n",
    "    \n",
    "    def __len__(self):\n",
    "        return self.len\n",
    "        \n",
    "    def __getitem__(self, idx):\n",
    "        ops = self.ops\n",
    "        fer_dict = self.fer_dict\n",
    "\n",
    "        sel_dict = fer_dict[idx]\n",
    "        batch_emo = np.zeros(7)\n",
    "        batch_emo[sel_dict['em']] = 1.\n",
    "        batch_img = np.expand_dims(sel_dict['img'], -1).repeat(3, -1)/255.\n",
    "        \n",
    "        # returns\n",
    "        batch_img = torch.Tensor( batch_img.transpose(2,0,1).copy() )\n",
    "        batch_emo = torch.Tensor( batch_emo.copy() )\n",
    "        \n",
    "        return batch_img, batch_emo\n",
    "    \n",
    "    "
   ]
  },
  {
   "cell_type": "code",
   "execution_count": 3,
   "metadata": {},
   "outputs": [],
   "source": [
    "import ops\n",
    "emo_db = FER_Dataset(ops)\n",
    "db_load = DataLoader(dataset=emo_db, batch_size=ops.batch_size, num_workers=4)\n"
   ]
  },
  {
   "cell_type": "code",
   "execution_count": 9,
   "metadata": {},
   "outputs": [
    {
     "name": "stdout",
     "output_type": "stream",
     "text": [
      "happiness\n"
     ]
    },
    {
     "data": {
      "image/png": "[encoded data removed]",
      "text/plain": [
       "<Figure size 432x288 with 1 Axes>"
      ]
     },
     "metadata": {
      "needs_background": "light"
     },
     "output_type": "display_data"
    }
   ],
   "source": [
    "for i, bat in enumerate(db_load, 0):\n",
    "    img, emo = bat[0], bat[1]\n",
    "    if i == 100:\n",
    "        break\n",
    "\n",
    "img_np = img.permute(0,2,3,1).numpy()\n",
    "idx = 0\n",
    "plt.imshow(img_np[idx])\n",
    "print emo2txt(emo[idx].nonzero()[0][0])\n"
   ]
  }
 ],
 "metadata": {
  "kernelspec": {
   "display_name": "Python 2",
   "language": "python",
   "name": "python2"
  },
  "language_info": {
   "codemirror_mode": {
    "name": "ipython",
    "version": 2
   },
   "file_extension": ".py",
   "mimetype": "text/x-python",
   "name": "python",
   "nbconvert_exporter": "python",
   "pygments_lexer": "ipython2",
   "version": "2.7.15+"
  }
 },
 "nbformat": 4,
 "nbformat_minor": 2
}
