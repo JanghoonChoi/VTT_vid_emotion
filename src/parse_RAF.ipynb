{
 "cells": [
  {
   "cell_type": "code",
   "execution_count": 1,
   "metadata": {},
   "outputs": [],
   "source": [
    "# preliminaries\n",
    "import sys,os,time,cv2\n",
    "import numpy as np\n",
    "import matplotlib.pyplot as plt\n",
    "from utils import imread_to_rgb, img_rgb2bw\n",
    "\n",
    "DB_PATH = '/home/jhchoi/datasets4/RAF/'\n",
    "raf_dict = dict()\n",
    "\n",
    "#FER: 0=angry, 1=disgust, 2=fear, 3=happy, 4=sad, 5=surprise, 6=neutral\n",
    "#RAF-basic and RAF-multi:\n",
    "# 1:Surprise, 2:Fear, 3:Disgust, 4:Happiness, 5:Sadness, 6:Anger, 7:Neutral\n",
    "#RAF-compound:\n",
    "# 1: Happily Surprised, 2: Happily Disgusted, 3: Sadly Fearful, 4: Sadly Angry, 5: Sadly Surprised, 6: Sadly Disgusted\n",
    "# 7: Fearfully Angry, 8: Fearfully Surprised, 9: Angrily Surprised, 10: Angrily Disgusted, 11: Disgustedly Surprised\n",
    "\n",
    "# translate from RAF-Basic to FER label vectors\n",
    "def emo_rafb2fer(rf):\n",
    "    fer_arr = [-1, 5, 2, 1, 3, 4, 0, 6]\n",
    "    fer = fer_arr[rf]\n",
    "    \n",
    "    emo_label = np.zeros(7)\n",
    "    emo_label[fer] = 1.\n",
    "    return emo_label\n",
    "\n",
    "# translate from RAF-Compound to FER label vectors\n",
    "def emo_rafc2fer(rf):\n",
    "    dic = [-1,      #0,1,2,3,4,5,6\n",
    "           np.array([0,0,0,1,0,1,0]), #1  Happily Surprised\n",
    "           np.array([0,1,0,1,0,0,0]), #2  Happily Disgusted\n",
    "           np.array([0,0,1,0,1,0,0]), #3  Sadly Fearful\n",
    "           np.array([1,0,0,0,1,0,0]), #4  Sadly Angry\n",
    "           np.array([0,0,0,0,1,1,0]), #5  Sadly Surprised\n",
    "           np.array([0,1,0,0,1,0,0]), #6  Sadly Disgusted\n",
    "           np.array([1,0,1,0,0,0,0]), #7  Fearfully Angry\n",
    "           np.array([0,0,1,0,0,1,0]), #8  Fearfully Surprised\n",
    "           np.array([1,0,0,0,0,1,0]), #9  Angrily Surprised\n",
    "           np.array([1,1,0,0,0,0,0]), #10 Angrily Disgusted\n",
    "           np.array([0,1,0,0,0,1,0])  #11 Disgustedly Surprised\n",
    "          ]\n",
    "    fer = dic[rf].astype(float)*0.5\n",
    "    return fer\n",
    "\n",
    "# translate from RAF-Multi to FER label vectors\n",
    "def emo_rafm2fer(rf):\n",
    "    neu = np.max([1. - np.sum(rf), 0.])\n",
    "    fer = np.array([rf[5],rf[2],rf[1],rf[3],rf[4],rf[0],neu])\n",
    "    return fer\n",
    "\n",
    "\n",
    "raf_b_dict = dict()\n",
    "raf_c_dict = dict()\n",
    "raf_m_dict = dict()\n"
   ]
  },
  {
   "cell_type": "code",
   "execution_count": 2,
   "metadata": {},
   "outputs": [],
   "source": [
    "# add basic db\n",
    "basic_path = os.path.join(DB_PATH, 'basic')\n",
    "labels = np.genfromtxt(os.path.join(basic_path,'EmoLabel','list_patition_label.txt'), delimiter=' ', dtype=str)\n",
    "\n",
    "for i,data in enumerate(labels):\n",
    "    data_name = data[0]\n",
    "    data_label = emo_rafb2fer(int(data[1]))\n",
    "    data_bb_path = os.path.join(basic_path, 'Annotation/boundingbox', data_name.split('.')[0]+'_boundingbox.txt')\n",
    "    data_bb = np.genfromtxt(data_bb_path, delimiter=' ') # (xmin,ymin,xmax,ymax)\n",
    "    data_path = os.path.join('basic/Image/original', data_name)\n",
    "    \n",
    "    raf_b_dict[i] = {'img': data_path, 'em': data_label, 'bb': data_bb }\n",
    "    "
   ]
  },
  {
   "cell_type": "code",
   "execution_count": 3,
   "metadata": {},
   "outputs": [],
   "source": [
    "# add compound db\n",
    "comp_path = os.path.join(DB_PATH, 'compound')\n",
    "labels = np.genfromtxt(os.path.join(comp_path,'EmoLabel','list_patition_label.txt'), delimiter=' ', dtype=str)\n",
    "\n",
    "for i,data in enumerate(labels):\n",
    "    data_name = data[0]\n",
    "    data_label = emo_rafc2fer(int(data[1]))\n",
    "    data_bb_path = os.path.join(comp_path, 'Annotation/boundingbox', data_name.split('.')[0]+'_boundingbox.txt')\n",
    "    data_bb = np.genfromtxt(data_bb_path, delimiter=' ')\n",
    "    data_path = os.path.join('compound/Image/original', data_name)\n",
    "    \n",
    "    raf_c_dict[i] = {'img': data_path, 'em': data_label, 'bb': data_bb }\n"
   ]
  },
  {
   "cell_type": "code",
   "execution_count": 4,
   "metadata": {},
   "outputs": [],
   "source": [
    "# add multi db\n",
    "multi_path = os.path.join(DB_PATH, 'multi')\n",
    "labels = np.genfromtxt(os.path.join(multi_path,'EmoLabel','distribution.txt'), delimiter=' ', dtype=str)\n",
    "\n",
    "for i,data in enumerate(labels):\n",
    "    data_name = data[0]\n",
    "    data_label = emo_rafm2fer((data[1:]).astype(float))\n",
    "    data_bb_path = os.path.join(multi_path, 'Annotation/manual', data_name.split('.')[0]+'_manu_ldmk.txt') \n",
    "    \n",
    "    data_bb = np.genfromtxt(data_bb_path, delimiter='\\t', dtype=float)\n",
    "    if data_bb.ndim <2:\n",
    "        #print data_name\n",
    "        data_bb = np.genfromtxt(data_bb_path, delimiter=' ', dtype=float, skip_footer=3)[:,:2]\n",
    "    xmin = np.min(data_bb[:,0])\n",
    "    xmax = np.max(data_bb[:,0])\n",
    "    ymin = np.min(data_bb[:,1])\n",
    "    ymax = np.max(data_bb[:,1])\n",
    "    w = xmax-xmin\n",
    "    h = ymax-ymin\n",
    "    m = 0.5 # h/w face margin ratio\n",
    "    data_bb_mod = np.array([xmin-w*m, ymin-h*m, xmax+w*m, ymax+h*m])\n",
    "    \n",
    "    data_path = os.path.join('multi/Image/original', data_name)\n",
    "    \n",
    "    raf_m_dict[i] = {'img': data_path, 'em': data_label, 'bb': data_bb_mod }\n"
   ]
  },
  {
   "cell_type": "code",
   "execution_count": 5,
   "metadata": {},
   "outputs": [
    {
     "name": "stdout",
     "output_type": "stream",
     "text": [
      "24201\n"
     ]
    }
   ],
   "source": [
    "i = 0\n",
    "for db in raf_b_dict.keys():\n",
    "    raf_dict[i] = raf_b_dict[db]\n",
    "    i += 1\n",
    "for db in raf_c_dict.keys():\n",
    "    raf_dict[i] = raf_c_dict[db]\n",
    "    i += 1\n",
    "for db in raf_m_dict.keys():\n",
    "    raf_dict[i] = raf_m_dict[db]\n",
    "    i += 1\n",
    "print i"
   ]
  },
  {
   "cell_type": "code",
   "execution_count": 19,
   "metadata": {},
   "outputs": [
    {
     "name": "stdout",
     "output_type": "stream",
     "text": [
      "saved\n"
     ]
    }
   ],
   "source": [
    "np.save('../../dicts/raf_parsed.npy', raf_dict, allow_pickle=True)\n",
    "print 'saved'\n"
   ]
  },
  {
   "cell_type": "code",
   "execution_count": 24,
   "metadata": {},
   "outputs": [
    {
     "name": "stdout",
     "output_type": "stream",
     "text": [
      "[0.       0.055556 0.5      0.       0.111111 0.333333 0.      ]\n"
     ]
    },
    {
     "data": {
      "text/plain": [
       "<matplotlib.image.AxesImage at 0x7efc294db710>"
      ]
     },
     "execution_count": 24,
     "metadata": {},
     "output_type": "execute_result"
    },
    {
     "data": {
      "image/png": "[encoded data removed]",
      "text/plain": [
       "<Figure size 432x288 with 1 Axes>"
      ]
     },
     "metadata": {
      "needs_background": "light"
     },
     "output_type": "display_data"
    }
   ],
   "source": [
    "data = raf_dict[20000]\n",
    "print data['em']\n",
    "data['bb'] = data['bb'].astype(int)\n",
    "im = plt.imread(os.path.join(DB_PATH, data['img']))\n",
    "im = cv2.rectangle(im, (data['bb'][0],data['bb'][1]), (data['bb'][2],data['bb'][3]), (255,0,255), 5)\n",
    "plt.imshow(im)"
   ]
  },
  {
   "cell_type": "code",
   "execution_count": 26,
   "metadata": {},
   "outputs": [
    {
     "data": {
      "text/plain": [
       "{'bb': array([213, 199, 484, 526]),\n",
       " 'em': array([0., 0., 0., 0., 1., 0., 0.]),\n",
       " 'img': 'basic/Image/original/train_00001.jpg'}"
      ]
     },
     "execution_count": 26,
     "metadata": {},
     "output_type": "execute_result"
    }
   ],
   "source": [
    "raf_dict[0]"
   ]
  },
  {
   "cell_type": "code",
   "execution_count": null,
   "metadata": {},
   "outputs": [],
   "source": []
  }
 ],
 "metadata": {
  "kernelspec": {
   "display_name": "Python 2",
   "language": "python",
   "name": "python2"
  },
  "language_info": {
   "codemirror_mode": {
    "name": "ipython",
    "version": 2
   },
   "file_extension": ".py",
   "mimetype": "text/x-python",
   "name": "python",
   "nbconvert_exporter": "python",
   "pygments_lexer": "ipython2",
   "version": "2.7.15+"
  }
 },
 "nbformat": 4,
 "nbformat_minor": 2
}
