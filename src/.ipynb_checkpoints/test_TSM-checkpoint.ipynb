{
 "cells": [
  {
   "cell_type": "code",
   "execution_count": 1,
   "metadata": {},
   "outputs": [],
   "source": [
    "import torch\n",
    "import torch.nn as nn\n",
    "import torch.nn.functional as F\n"
   ]
  },
  {
   "cell_type": "code",
   "execution_count": 89,
   "metadata": {},
   "outputs": [],
   "source": [
    "x0 = torch.zeros(32,16,15,15)\n",
    "# input\n",
    "fold_div = 4\n",
    "n_B = 8\n",
    "n_T = 4\n",
    "x = x0.view(n_B, n_T, x0.shape[1], x0.shape[2], x0.shape[3])\n",
    "\n",
    "x[:,0,:] = 0.1\n",
    "x[:,1,:] = 0.2\n",
    "x[:,2,:] = 0.3\n",
    "x[:,3,:] = 0.4\n",
    "\n",
    "# channel dim\n",
    "n_C = x.shape[2]\n",
    "# fold\n",
    "fold = n_C // fold_div\n",
    "\n",
    "# shift left\n",
    "idx = [0] + range(n_T-1)\n",
    "x[:,:,:fold,:] = x[:,idx,:fold,:]\n",
    "x[:,0,:fold,:] = 0.\n"
   ]
  },
  {
   "cell_type": "code",
   "execution_count": 92,
   "metadata": {},
   "outputs": [
    {
     "data": {
      "text/plain": [
       "torch.Size([8, 4, 16, 15, 15])"
      ]
     },
     "execution_count": 92,
     "metadata": {},
     "output_type": "execute_result"
    }
   ],
   "source": [
    "x.shape"
   ]
  },
  {
   "cell_type": "code",
   "execution_count": 93,
   "metadata": {},
   "outputs": [
    {
     "data": {
      "text/plain": [
       "tensor([[0.0000, 0.0000, 0.0000, 0.0000, 0.1000, 0.1000, 0.1000, 0.1000, 0.1000,\n",
       "         0.1000, 0.1000, 0.1000, 0.1000, 0.1000, 0.1000, 0.1000],\n",
       "        [0.1000, 0.1000, 0.1000, 0.1000, 0.2000, 0.2000, 0.2000, 0.2000, 0.2000,\n",
       "         0.2000, 0.2000, 0.2000, 0.2000, 0.2000, 0.2000, 0.2000],\n",
       "        [0.2000, 0.2000, 0.2000, 0.2000, 0.3000, 0.3000, 0.3000, 0.3000, 0.3000,\n",
       "         0.3000, 0.3000, 0.3000, 0.3000, 0.3000, 0.3000, 0.3000],\n",
       "        [0.3000, 0.3000, 0.3000, 0.3000, 0.4000, 0.4000, 0.4000, 0.4000, 0.4000,\n",
       "         0.4000, 0.4000, 0.4000, 0.4000, 0.4000, 0.4000, 0.4000]])"
      ]
     },
     "execution_count": 93,
     "metadata": {},
     "output_type": "execute_result"
    }
   ],
   "source": [
    "x[0,:,:,0,0]"
   ]
  },
  {
   "cell_type": "code",
   "execution_count": 94,
   "metadata": {},
   "outputs": [],
   "source": [
    "def temp_shift(x0, n_B, n_T, fold_div, fill_zero=False):\n",
    "    # reshape\n",
    "    x = x0.view(n_B, n_T, x0.shape[1], x0.shape[2], x0.shape[3])\n",
    "    # channel dim\n",
    "    n_C = x.shape[2]\n",
    "    # calc fold\n",
    "    fold = n_C // fold_div\n",
    "    # shift left (+ fill zero)\n",
    "    idx = [0] + range(n_T-1)\n",
    "    x[:,:,:fold,:] = x[:,idx,:fold,:]\n",
    "    if fill_zero:\n",
    "        x[:,0,:fold,:] = 0.\n",
    "    # reshape\n",
    "    x = x.flatten(0,1)\n",
    "    \n",
    "    return x"
   ]
  },
  {
   "cell_type": "code",
   "execution_count": null,
   "metadata": {},
   "outputs": [],
   "source": [
    "x = torch.rand()"
   ]
  }
 ],
 "metadata": {
  "kernelspec": {
   "display_name": "Python 2",
   "language": "python",
   "name": "python2"
  },
  "language_info": {
   "codemirror_mode": {
    "name": "ipython",
    "version": 2
   },
   "file_extension": ".py",
   "mimetype": "text/x-python",
   "name": "python",
   "nbconvert_exporter": "python",
   "pygments_lexer": "ipython2",
   "version": "2.7.15+"
  }
 },
 "nbformat": 4,
 "nbformat_minor": 2
}
