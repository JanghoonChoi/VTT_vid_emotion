{
 "cells": [
  {
   "cell_type": "code",
   "execution_count": 1,
   "metadata": {},
   "outputs": [],
   "source": [
    "# extract all frame images from Friends video file (*.mkv)\n",
    "# preliminaries\n",
    "import sys,os,time,cv2\n",
    "import numpy as np\n",
    "import matplotlib.pyplot as plt\n",
    "import scipy.io as io\n",
    "import ops\n",
    "# for video file generation\n",
    "from utils import imread_to_rgb, crop_img\n",
    "\n",
    "\n",
    "DB_PATH = '/home/jhchoi/datasets2/friends/'\n",
    "MD_PATH = '../../anno/'\n",
    "window_size = 1\n",
    "crop_size = ops.img_sz\n"
   ]
  },
  {
   "cell_type": "code",
   "execution_count": null,
   "metadata": {},
   "outputs": [],
   "source": [
    "# open mkv file\n",
    "mkvlist = [f for f in os.listdir(DB_PATH) if f[-3:]=='mkv']\n",
    "mkvlist = np.sort(mkvlist)\n",
    "\n",
    "for epi_i, epi_f in enumerate(mkvlist):\n",
    "    print epi_f\n",
    "    \n",
    "    epi_dir = 'ep' + str('%02d' % (epi_i+1))\n",
    "    epi_vid = cv2.VideoCapture(DB_PATH + epi_f)\n",
    "    fnum = 0;    r = True\n",
    "    while r:\n",
    "        sys.stdout.write(\"\\r\"+str(fnum))\n",
    "        imfname = str('%05d' % fnum) + '.jpg'\n",
    "        r, f = epi_vid.read()\n",
    "        cv2.imwrite(DB_PATH+'/'+epi_dir + '/' + imfname, f)\n",
    "        \n",
    "        fnum += 1\n",
    "    print ''"
   ]
  },
  {
   "cell_type": "code",
   "execution_count": null,
   "metadata": {},
   "outputs": [],
   "source": []
  }
 ],
 "metadata": {
  "kernelspec": {
   "display_name": "Python 2",
   "language": "python",
   "name": "python2"
  },
  "language_info": {
   "codemirror_mode": {
    "name": "ipython",
    "version": 2
   },
   "file_extension": ".py",
   "mimetype": "text/x-python",
   "name": "python",
   "nbconvert_exporter": "python",
   "pygments_lexer": "ipython2",
   "version": "2.7.15+"
  }
 },
 "nbformat": 4,
 "nbformat_minor": 2
}
