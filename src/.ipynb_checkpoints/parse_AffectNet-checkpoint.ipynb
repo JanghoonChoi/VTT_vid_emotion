{
 "cells": [
  {
   "cell_type": "code",
   "execution_count": 1,
   "metadata": {},
   "outputs": [],
   "source": [
    "# preliminaries\n",
    "import sys,os,time,cv2\n",
    "import numpy as np\n",
    "import matplotlib.pyplot as plt\n",
    "from utils import imread_to_rgb, img_rgb2bw\n",
    "\n",
    "DB_PATH = '/home/jhchoi/datasets3/affectnet/'\n",
    "af_dict = dict()\n",
    "# CK: 0=neutral, 1=anger, 2=contempt, 3=disgust, 4=fear, 5=happy, 6=sadness, 7=surprise\n",
    "#FER: 0=angry, 1=disgust, 2=fear, 3=happy, 4=sad, 5=surprise, 6=neutral\n",
    "#AF : 0: Neutral, 1: Happiness, 2: Sadness, 3: Surprise, 4: Fear, 5: Disgust, 6: Anger, 7: Contempt, 8: None, 9: Uncertain, 10: No-Face\n",
    "\n",
    "def emo_af2fer(af):\n",
    "    trm = [6, 3, 4, 5, 2, 1, 0, -1, -1, -1, -1]\n",
    "    return trm[af]\n",
    "\n",
    "for i in range(7):\n",
    "    af_dict[i] = dict()\n",
    "    "
   ]
  },
  {
   "cell_type": "code",
   "execution_count": null,
   "metadata": {},
   "outputs": [],
   "source": [
    "csv_train = np.genfromtxt(DB_PATH + '/training.csv', dtype=str)[1:]\n",
    "csv_valid = np.genfromtxt(DB_PATH + '/validation.csv', dtype=str)[1:]\n",
    "db_all = np.concatenate((csv_train, csv_valid))\n",
    "numl_all = np.zeros(7)\n"
   ]
  },
  {
   "cell_type": "code",
   "execution_count": null,
   "metadata": {},
   "outputs": [],
   "source": [
    "for i in range(db_all.size):\n",
    "    ll = db_all[i]\n",
    "    ls = ll.split(',')\n",
    "    \n",
    "    if emo_af2fer(int(ls[6])) < 0: continue\n",
    "    if ls[1] == 'NULL' : continue\n",
    "    \n",
    "    emo = emo_af2fer(int(ls[6]))\n",
    "    numl = numl_all[emo]\n",
    "    af_dict[emo][numl] = dict()\n",
    "    af_dict[emo][numl]['img'] = ls[0] # 123/aaa.jpg\n",
    "    af_dict[emo][numl]['gt']  = [int(ls[1]), int(ls[2]), int(ls[3]), int(ls[4])] # x,y,w,h\n",
    "    af_dict[emo][numl]['emo'] = emo\n",
    "    af_dict[emo][numl]['val'] = float(ls[-2])\n",
    "    af_dict[emo][numl]['aro'] = float(ls[-1])\n",
    "    numl_all[emo] += 1\n",
    "\n",
    "np.save('../../dicts/affectnet_parsed.npy', af_dict)"
   ]
  },
  {
   "cell_type": "code",
   "execution_count": 2,
   "metadata": {},
   "outputs": [],
   "source": [
    "af_dict = np.load('../../dicts/affectnet_parsed.npy', allow_pickle=True).item()"
   ]
  },
  {
   "cell_type": "code",
   "execution_count": null,
   "metadata": {},
   "outputs": [],
   "source": []
  }
 ],
 "metadata": {
  "kernelspec": {
   "display_name": "Python 2",
   "language": "python",
   "name": "python2"
  },
  "language_info": {
   "codemirror_mode": {
    "name": "ipython",
    "version": 2
   },
   "file_extension": ".py",
   "mimetype": "text/x-python",
   "name": "python",
   "nbconvert_exporter": "python",
   "pygments_lexer": "ipython2",
   "version": "2.7.15+"
  }
 },
 "nbformat": 4,
 "nbformat_minor": 2
}
